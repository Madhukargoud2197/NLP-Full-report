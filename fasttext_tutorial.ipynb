{
  "cells": [
    {
      "cell_type": "markdown",
      "metadata": {
        "id": "view-in-github",
        "colab_type": "text"
      },
      "source": [
        "<a href=\"https://colab.research.google.com/github/alphamale126/NLP-Full-report/blob/main/fasttext_tutorial.ipynb\" target=\"_parent\"><img src=\"https://colab.research.google.com/assets/colab-badge.svg\" alt=\"Open In Colab\"/></a>"
      ]
    },
    {
      "cell_type": "markdown",
      "id": "e042955b",
      "metadata": {
        "id": "e042955b"
      },
      "source": [
        "<h3>NLP Tutorial: Text Classification Using FastText</h3>"
      ]
    },
    {
      "cell_type": "markdown",
      "id": "503abc5f",
      "metadata": {
        "id": "503abc5f"
      },
      "source": [
        "##### Dataset Credits: https://www.kaggle.com/datasets/saurabhshahane/ecommerce-text-classification\n",
        "\n",
        "We have a dataset of ecommerce item description. Total 4 categories,\n",
        "1. Household\n",
        "2. Electronics\n",
        "3. Clothing and Accessories\n",
        "4. Books\n",
        "\n",
        "The task at hand is to classify a product into one of the above 4 categories based on the product description"
      ]
    },
    {
      "cell_type": "code",
      "execution_count": null,
      "id": "80cdd99d",
      "metadata": {
        "id": "80cdd99d",
        "outputId": "f6774812-e149-4797-a2b3-8d000640e5f5"
      },
      "outputs": [
        {
          "name": "stdout",
          "output_type": "stream",
          "text": [
            "(50425, 2)\n"
          ]
        },
        {
          "data": {
            "text/html": [
              "<div>\n",
              "<style scoped>\n",
              "    .dataframe tbody tr th:only-of-type {\n",
              "        vertical-align: middle;\n",
              "    }\n",
              "\n",
              "    .dataframe tbody tr th {\n",
              "        vertical-align: top;\n",
              "    }\n",
              "\n",
              "    .dataframe thead th {\n",
              "        text-align: right;\n",
              "    }\n",
              "</style>\n",
              "<table border=\"1\" class=\"dataframe\">\n",
              "  <thead>\n",
              "    <tr style=\"text-align: right;\">\n",
              "      <th></th>\n",
              "      <th>category</th>\n",
              "      <th>description</th>\n",
              "    </tr>\n",
              "  </thead>\n",
              "  <tbody>\n",
              "    <tr>\n",
              "      <th>0</th>\n",
              "      <td>Household</td>\n",
              "      <td>Paper Plane Design Framed Wall Hanging Motivat...</td>\n",
              "    </tr>\n",
              "    <tr>\n",
              "      <th>1</th>\n",
              "      <td>Household</td>\n",
              "      <td>SAF 'Floral' Framed Painting (Wood, 30 inch x ...</td>\n",
              "    </tr>\n",
              "    <tr>\n",
              "      <th>2</th>\n",
              "      <td>Household</td>\n",
              "      <td>SAF 'UV Textured Modern Art Print Framed' Pain...</td>\n",
              "    </tr>\n",
              "  </tbody>\n",
              "</table>\n",
              "</div>"
            ],
            "text/plain": [
              "    category                                        description\n",
              "0  Household  Paper Plane Design Framed Wall Hanging Motivat...\n",
              "1  Household  SAF 'Floral' Framed Painting (Wood, 30 inch x ...\n",
              "2  Household  SAF 'UV Textured Modern Art Print Framed' Pain..."
            ]
          },
          "execution_count": 237,
          "metadata": {},
          "output_type": "execute_result"
        }
      ],
      "source": [
        "import pandas as pd\n",
        "\n",
        "df= pd.read_csv(\"ecommerce_dataset.csv\", names=[\"category\", \"description\"], header=None)\n",
        "print(df.shape)\n",
        "df.head(3)"
      ]
    },
    {
      "cell_type": "markdown",
      "id": "f05f78e4",
      "metadata": {
        "id": "f05f78e4"
      },
      "source": [
        "**Drop NA values**"
      ]
    },
    {
      "cell_type": "code",
      "execution_count": null,
      "id": "a448badc",
      "metadata": {
        "id": "a448badc",
        "outputId": "f3fe2d79-6a50-4963-8fc7-b89fc900eaa7"
      },
      "outputs": [
        {
          "data": {
            "text/plain": [
              "(50424, 2)"
            ]
          },
          "execution_count": 238,
          "metadata": {},
          "output_type": "execute_result"
        }
      ],
      "source": [
        "df.dropna(inplace=True)\n",
        "df.shape"
      ]
    },
    {
      "cell_type": "code",
      "execution_count": null,
      "id": "9d48a3cd",
      "metadata": {
        "id": "9d48a3cd",
        "outputId": "bf484a96-f3be-43eb-c3b2-6af829eef48a"
      },
      "outputs": [
        {
          "data": {
            "text/plain": [
              "array(['Household', 'Books', 'Clothing & Accessories', 'Electronics'],\n",
              "      dtype=object)"
            ]
          },
          "execution_count": 239,
          "metadata": {},
          "output_type": "execute_result"
        }
      ],
      "source": [
        "df.category.unique()"
      ]
    },
    {
      "cell_type": "code",
      "execution_count": null,
      "id": "17dfdfe8",
      "metadata": {
        "scrolled": true,
        "id": "17dfdfe8"
      },
      "outputs": [],
      "source": [
        "df.category.replace(\"Clothing & Accessories\", \"Clothing_Accessories\", inplace=True)"
      ]
    },
    {
      "cell_type": "code",
      "execution_count": null,
      "id": "c277c44e",
      "metadata": {
        "id": "c277c44e",
        "outputId": "713a4c57-a537-46d7-cae6-321a70795b5b"
      },
      "outputs": [
        {
          "data": {
            "text/plain": [
              "array(['Household', 'Books', 'Clothing_Accessories', 'Electronics'],\n",
              "      dtype=object)"
            ]
          },
          "execution_count": 241,
          "metadata": {},
          "output_type": "execute_result"
        }
      ],
      "source": [
        "df.category.unique()"
      ]
    },
    {
      "cell_type": "markdown",
      "id": "7354a03d",
      "metadata": {
        "id": "7354a03d"
      },
      "source": [
        "When you train a fasttext model, it expects labels to be specified with __label__ prefix. We will just create a third column in the dataframe that has __label__ as well as the product description"
      ]
    },
    {
      "cell_type": "code",
      "execution_count": null,
      "id": "eecb3b5e",
      "metadata": {
        "scrolled": true,
        "id": "eecb3b5e",
        "outputId": "8368e768-5b85-4f28-c710-12ac6ea96c66"
      },
      "outputs": [
        {
          "data": {
            "text/html": [
              "<div>\n",
              "<style scoped>\n",
              "    .dataframe tbody tr th:only-of-type {\n",
              "        vertical-align: middle;\n",
              "    }\n",
              "\n",
              "    .dataframe tbody tr th {\n",
              "        vertical-align: top;\n",
              "    }\n",
              "\n",
              "    .dataframe thead th {\n",
              "        text-align: right;\n",
              "    }\n",
              "</style>\n",
              "<table border=\"1\" class=\"dataframe\">\n",
              "  <thead>\n",
              "    <tr style=\"text-align: right;\">\n",
              "      <th></th>\n",
              "      <th>category</th>\n",
              "      <th>description</th>\n",
              "    </tr>\n",
              "  </thead>\n",
              "  <tbody>\n",
              "    <tr>\n",
              "      <th>0</th>\n",
              "      <td>__label__Household</td>\n",
              "      <td>Paper Plane Design Framed Wall Hanging Motivat...</td>\n",
              "    </tr>\n",
              "    <tr>\n",
              "      <th>1</th>\n",
              "      <td>__label__Household</td>\n",
              "      <td>SAF 'Floral' Framed Painting (Wood, 30 inch x ...</td>\n",
              "    </tr>\n",
              "    <tr>\n",
              "      <th>2</th>\n",
              "      <td>__label__Household</td>\n",
              "      <td>SAF 'UV Textured Modern Art Print Framed' Pain...</td>\n",
              "    </tr>\n",
              "    <tr>\n",
              "      <th>3</th>\n",
              "      <td>__label__Household</td>\n",
              "      <td>SAF Flower Print Framed Painting (Synthetic, 1...</td>\n",
              "    </tr>\n",
              "    <tr>\n",
              "      <th>4</th>\n",
              "      <td>__label__Household</td>\n",
              "      <td>Incredible Gifts India Wooden Happy Birthday U...</td>\n",
              "    </tr>\n",
              "  </tbody>\n",
              "</table>\n",
              "</div>"
            ],
            "text/plain": [
              "             category                                        description\n",
              "0  __label__Household  Paper Plane Design Framed Wall Hanging Motivat...\n",
              "1  __label__Household  SAF 'Floral' Framed Painting (Wood, 30 inch x ...\n",
              "2  __label__Household  SAF 'UV Textured Modern Art Print Framed' Pain...\n",
              "3  __label__Household  SAF Flower Print Framed Painting (Synthetic, 1...\n",
              "4  __label__Household  Incredible Gifts India Wooden Happy Birthday U..."
            ]
          },
          "execution_count": 242,
          "metadata": {},
          "output_type": "execute_result"
        }
      ],
      "source": [
        "df['category'] = '__label__' + df['category'].astype(str)\n",
        "df.head(5)"
      ]
    },
    {
      "cell_type": "code",
      "execution_count": null,
      "id": "a55c7b2a",
      "metadata": {
        "scrolled": false,
        "id": "a55c7b2a",
        "outputId": "6e2b02ca-6f0d-4538-8026-f2c6a9128332"
      },
      "outputs": [
        {
          "data": {
            "text/html": [
              "<div>\n",
              "<style scoped>\n",
              "    .dataframe tbody tr th:only-of-type {\n",
              "        vertical-align: middle;\n",
              "    }\n",
              "\n",
              "    .dataframe tbody tr th {\n",
              "        vertical-align: top;\n",
              "    }\n",
              "\n",
              "    .dataframe thead th {\n",
              "        text-align: right;\n",
              "    }\n",
              "</style>\n",
              "<table border=\"1\" class=\"dataframe\">\n",
              "  <thead>\n",
              "    <tr style=\"text-align: right;\">\n",
              "      <th></th>\n",
              "      <th>category</th>\n",
              "      <th>description</th>\n",
              "      <th>category_description</th>\n",
              "    </tr>\n",
              "  </thead>\n",
              "  <tbody>\n",
              "    <tr>\n",
              "      <th>0</th>\n",
              "      <td>__label__Household</td>\n",
              "      <td>Paper Plane Design Framed Wall Hanging Motivat...</td>\n",
              "      <td>__label__Household Paper Plane Design Framed W...</td>\n",
              "    </tr>\n",
              "    <tr>\n",
              "      <th>1</th>\n",
              "      <td>__label__Household</td>\n",
              "      <td>SAF 'Floral' Framed Painting (Wood, 30 inch x ...</td>\n",
              "      <td>__label__Household SAF 'Floral' Framed Paintin...</td>\n",
              "    </tr>\n",
              "    <tr>\n",
              "      <th>2</th>\n",
              "      <td>__label__Household</td>\n",
              "      <td>SAF 'UV Textured Modern Art Print Framed' Pain...</td>\n",
              "      <td>__label__Household SAF 'UV Textured Modern Art...</td>\n",
              "    </tr>\n",
              "  </tbody>\n",
              "</table>\n",
              "</div>"
            ],
            "text/plain": [
              "             category                                        description  \\\n",
              "0  __label__Household  Paper Plane Design Framed Wall Hanging Motivat...   \n",
              "1  __label__Household  SAF 'Floral' Framed Painting (Wood, 30 inch x ...   \n",
              "2  __label__Household  SAF 'UV Textured Modern Art Print Framed' Pain...   \n",
              "\n",
              "                                category_description  \n",
              "0  __label__Household Paper Plane Design Framed W...  \n",
              "1  __label__Household SAF 'Floral' Framed Paintin...  \n",
              "2  __label__Household SAF 'UV Textured Modern Art...  "
            ]
          },
          "execution_count": 243,
          "metadata": {},
          "output_type": "execute_result"
        }
      ],
      "source": [
        "df['category_description'] = df['category'] + ' ' + df['description']\n",
        "df.head(3)"
      ]
    },
    {
      "cell_type": "markdown",
      "id": "daac91b9",
      "metadata": {
        "id": "daac91b9"
      },
      "source": [
        "**Pre-procesing**\n",
        "1. Remove punctuation\n",
        "2. Remove extra space\n",
        "3. Make the entire sentence lower case"
      ]
    },
    {
      "cell_type": "code",
      "execution_count": null,
      "id": "f080222a",
      "metadata": {
        "id": "f080222a",
        "outputId": "666b5bd1-e399-4cd1-833b-8c855ac4b1b7"
      },
      "outputs": [
        {
          "data": {
            "text/plain": [
              "\"viki's bookcase bookshelf 3 shelf shelve white hi\""
            ]
          },
          "execution_count": 244,
          "metadata": {},
          "output_type": "execute_result"
        }
      ],
      "source": [
        "import re\n",
        "\n",
        "text = \"  VIKI's | Bookcase/Bookshelf (3-Shelf/Shelve, White) | ? . hi\"\n",
        "text = re.sub(r'[^\\w\\s\\']',' ', text)\n",
        "text = re.sub(' +', ' ', text)\n",
        "text.strip().lower()"
      ]
    },
    {
      "cell_type": "code",
      "execution_count": null,
      "id": "3f568a80",
      "metadata": {
        "id": "3f568a80"
      },
      "outputs": [],
      "source": [
        "def preprocess(text):\n",
        "    text = re.sub(r'[^\\w\\s\\']',' ', text)\n",
        "    text = re.sub(' +', ' ', text)\n",
        "    return text.strip().lower()"
      ]
    },
    {
      "cell_type": "code",
      "execution_count": null,
      "id": "f5844909",
      "metadata": {
        "scrolled": false,
        "id": "f5844909",
        "outputId": "7d0f5143-a77f-4809-ffcd-9cc6bca2779a"
      },
      "outputs": [
        {
          "data": {
            "text/html": [
              "<div>\n",
              "<style scoped>\n",
              "    .dataframe tbody tr th:only-of-type {\n",
              "        vertical-align: middle;\n",
              "    }\n",
              "\n",
              "    .dataframe tbody tr th {\n",
              "        vertical-align: top;\n",
              "    }\n",
              "\n",
              "    .dataframe thead th {\n",
              "        text-align: right;\n",
              "    }\n",
              "</style>\n",
              "<table border=\"1\" class=\"dataframe\">\n",
              "  <thead>\n",
              "    <tr style=\"text-align: right;\">\n",
              "      <th></th>\n",
              "      <th>category</th>\n",
              "      <th>description</th>\n",
              "      <th>category_description</th>\n",
              "    </tr>\n",
              "  </thead>\n",
              "  <tbody>\n",
              "    <tr>\n",
              "      <th>0</th>\n",
              "      <td>__label__Household</td>\n",
              "      <td>Paper Plane Design Framed Wall Hanging Motivat...</td>\n",
              "      <td>__label__household paper plane design framed w...</td>\n",
              "    </tr>\n",
              "    <tr>\n",
              "      <th>1</th>\n",
              "      <td>__label__Household</td>\n",
              "      <td>SAF 'Floral' Framed Painting (Wood, 30 inch x ...</td>\n",
              "      <td>__label__household saf 'floral' framed paintin...</td>\n",
              "    </tr>\n",
              "    <tr>\n",
              "      <th>2</th>\n",
              "      <td>__label__Household</td>\n",
              "      <td>SAF 'UV Textured Modern Art Print Framed' Pain...</td>\n",
              "      <td>__label__household saf 'uv textured modern art...</td>\n",
              "    </tr>\n",
              "    <tr>\n",
              "      <th>3</th>\n",
              "      <td>__label__Household</td>\n",
              "      <td>SAF Flower Print Framed Painting (Synthetic, 1...</td>\n",
              "      <td>__label__household saf flower print framed pai...</td>\n",
              "    </tr>\n",
              "    <tr>\n",
              "      <th>4</th>\n",
              "      <td>__label__Household</td>\n",
              "      <td>Incredible Gifts India Wooden Happy Birthday U...</td>\n",
              "      <td>__label__household incredible gifts india wood...</td>\n",
              "    </tr>\n",
              "  </tbody>\n",
              "</table>\n",
              "</div>"
            ],
            "text/plain": [
              "             category                                        description  \\\n",
              "0  __label__Household  Paper Plane Design Framed Wall Hanging Motivat...   \n",
              "1  __label__Household  SAF 'Floral' Framed Painting (Wood, 30 inch x ...   \n",
              "2  __label__Household  SAF 'UV Textured Modern Art Print Framed' Pain...   \n",
              "3  __label__Household  SAF Flower Print Framed Painting (Synthetic, 1...   \n",
              "4  __label__Household  Incredible Gifts India Wooden Happy Birthday U...   \n",
              "\n",
              "                                category_description  \n",
              "0  __label__household paper plane design framed w...  \n",
              "1  __label__household saf 'floral' framed paintin...  \n",
              "2  __label__household saf 'uv textured modern art...  \n",
              "3  __label__household saf flower print framed pai...  \n",
              "4  __label__household incredible gifts india wood...  "
            ]
          },
          "execution_count": 248,
          "metadata": {},
          "output_type": "execute_result"
        }
      ],
      "source": [
        "df['category_description'] = df['category_description'].map(preprocess)\n",
        "df.head()"
      ]
    },
    {
      "cell_type": "markdown",
      "id": "46fe1cd4",
      "metadata": {
        "id": "46fe1cd4"
      },
      "source": [
        "**Train Test Split**"
      ]
    },
    {
      "cell_type": "code",
      "execution_count": null,
      "id": "9beb0040",
      "metadata": {
        "id": "9beb0040"
      },
      "outputs": [],
      "source": [
        "from sklearn.model_selection import train_test_split\n",
        "\n",
        "train, test = train_test_split(df, test_size=0.2)"
      ]
    },
    {
      "cell_type": "code",
      "execution_count": null,
      "id": "a9682e4c",
      "metadata": {
        "id": "a9682e4c",
        "outputId": "44904dc0-5395-426b-8428-ea6b8a3ba89d"
      },
      "outputs": [
        {
          "data": {
            "text/plain": [
              "((40339, 3), (10085, 3))"
            ]
          },
          "execution_count": 250,
          "metadata": {},
          "output_type": "execute_result"
        }
      ],
      "source": [
        "train.shape, test.shape"
      ]
    },
    {
      "cell_type": "code",
      "execution_count": null,
      "id": "50b99db4",
      "metadata": {
        "id": "50b99db4"
      },
      "outputs": [],
      "source": [
        "train.to_csv(\"ecommerce.train\", columns=[\"category_description\"], index=False, header=False)\n",
        "test.to_csv(\"ecommerce.test\", columns=[\"category_description\"], index=False, header=False)"
      ]
    },
    {
      "cell_type": "markdown",
      "id": "3d54f678",
      "metadata": {
        "id": "3d54f678"
      },
      "source": [
        "**Train the model and evaluate performance**"
      ]
    },
    {
      "cell_type": "code",
      "execution_count": null,
      "id": "97b9e30a",
      "metadata": {
        "id": "97b9e30a",
        "outputId": "665083c2-bb66-42b5-8773-f42c12920bde"
      },
      "outputs": [
        {
          "data": {
            "text/plain": [
              "(10084, 0.9662832209440698, 0.9662832209440698)"
            ]
          },
          "execution_count": 1,
          "metadata": {},
          "output_type": "execute_result"
        }
      ],
      "source": [
        "import fasttext\n",
        "\n",
        "model = fasttext.train_supervised(input=\"ecommerce.train\")\n",
        "model.test(\"ecommerce.test\")"
      ]
    },
    {
      "cell_type": "markdown",
      "id": "967989a8",
      "metadata": {
        "id": "967989a8"
      },
      "source": [
        "First parameter (10084) is test size. Second and third parameters are precision and recall respectively. You can see we are getting around 96% precision which is pretty good"
      ]
    },
    {
      "cell_type": "markdown",
      "id": "00192014",
      "metadata": {
        "id": "00192014"
      },
      "source": [
        "**Now let's do prediction for few product descriptions**"
      ]
    },
    {
      "cell_type": "code",
      "execution_count": null,
      "id": "36a04dec",
      "metadata": {
        "id": "36a04dec",
        "outputId": "c971c434-7b90-4ad7-fe76-afb274bb0358"
      },
      "outputs": [
        {
          "data": {
            "text/plain": [
              "(('__label__electronics',), array([0.99791646]))"
            ]
          },
          "execution_count": 262,
          "metadata": {},
          "output_type": "execute_result"
        }
      ],
      "source": [
        "model.predict(\"wintech assemble desktop pc cpu 500 gb sata hdd 4 gb ram intel c2d processor 3\")"
      ]
    },
    {
      "cell_type": "code",
      "execution_count": null,
      "id": "ab103941",
      "metadata": {
        "id": "ab103941",
        "outputId": "5db47a70-3582-40c4-9089-0d7f78466398"
      },
      "outputs": [
        {
          "data": {
            "text/plain": [
              "(('__label__clothing_accessories',), array([1.00001001]))"
            ]
          },
          "execution_count": 261,
          "metadata": {},
          "output_type": "execute_result"
        }
      ],
      "source": [
        "model.predict(\"ockey men's cotton t shirt fabric details 80 cotton 20 polyester super combed cotton rich fabric\")"
      ]
    },
    {
      "cell_type": "code",
      "execution_count": null,
      "id": "6bd3fc10",
      "metadata": {
        "scrolled": true,
        "id": "6bd3fc10",
        "outputId": "03b49927-c383-4dc5-f8e8-610476d756ac"
      },
      "outputs": [
        {
          "data": {
            "text/plain": [
              "(('__label__books',), array([1.00000966]))"
            ]
          },
          "execution_count": 260,
          "metadata": {},
          "output_type": "execute_result"
        }
      ],
      "source": [
        "model.predict(\"think and grow rich deluxe edition\")"
      ]
    },
    {
      "cell_type": "code",
      "execution_count": null,
      "id": "f01fa6d7",
      "metadata": {
        "id": "f01fa6d7",
        "outputId": "34ecc162-38a7-4958-eefe-a95ea6e45a6e"
      },
      "outputs": [
        {
          "data": {
            "text/plain": [
              "[(0.9961369037628174, 'vacuum'),\n",
              " (0.9959887862205505, 'guard'),\n",
              " (0.9959416389465332, 'alarm'),\n",
              " (0.9958606958389282, 'lint'),\n",
              " (0.9955978989601135, 'temperature'),\n",
              " (0.995332658290863, 'machine'),\n",
              " (0.9952465295791626, 'gloss'),\n",
              " (0.9952084422111511, 'door'),\n",
              " (0.9951741099357605, 'steam'),\n",
              " (0.9947825074195862, 'induction')]"
            ]
          },
          "execution_count": 266,
          "metadata": {},
          "output_type": "execute_result"
        }
      ],
      "source": [
        "model.get_nearest_neighbors(\"painting\")"
      ]
    },
    {
      "cell_type": "code",
      "execution_count": null,
      "id": "c24700fd",
      "metadata": {
        "id": "c24700fd",
        "outputId": "a4725100-966d-4987-d0b5-755934058d56"
      },
      "outputs": [
        {
          "data": {
            "text/plain": [
              "[(0.9984563589096069, 'tablets'),\n",
              " (0.9980253577232361, 'dvd'),\n",
              " (0.9979312419891357, 'binocular'),\n",
              " (0.9977967739105225, 'colour'),\n",
              " (0.9977490305900574, 'external'),\n",
              " (0.9976783394813538, 'player'),\n",
              " (0.9972286820411682, 'viewing'),\n",
              " (0.9971092939376831, 'photos'),\n",
              " (0.9967519640922546, 'binoculars'),\n",
              " (0.996209979057312, 'graphics')]"
            ]
          },
          "execution_count": 273,
          "metadata": {},
          "output_type": "execute_result"
        }
      ],
      "source": [
        "model.get_nearest_neighbors(\"sony\")"
      ]
    },
    {
      "cell_type": "code",
      "execution_count": null,
      "id": "69dd8e1d",
      "metadata": {
        "id": "69dd8e1d",
        "outputId": "a01fc7dc-11ea-4521-9a24-de541daa16bc"
      },
      "outputs": [
        {
          "data": {
            "text/plain": [
              "[(0.0, 'to'),\n",
              " (0.0, 'and'),\n",
              " (0.0, 'a'),\n",
              " (0.0, 'with'),\n",
              " (0.0, 'for'),\n",
              " (0.0, 'is'),\n",
              " (0.0, '</s>'),\n",
              " (0.0, 'spaulding'),\n",
              " (0.0, 'audette'),\n",
              " (0.0, 'rheumatologist')]"
            ]
          },
          "execution_count": 278,
          "metadata": {},
          "output_type": "execute_result"
        }
      ],
      "source": [
        "model.get_nearest_neighbors(\"banglore\")"
      ]
    }
  ],
  "metadata": {
    "kernelspec": {
      "display_name": "Python 3",
      "language": "python",
      "name": "python3"
    },
    "language_info": {
      "codemirror_mode": {
        "name": "ipython",
        "version": 3
      },
      "file_extension": ".py",
      "mimetype": "text/x-python",
      "name": "python",
      "nbconvert_exporter": "python",
      "pygments_lexer": "ipython3",
      "version": "3.8.10"
    },
    "colab": {
      "provenance": [],
      "include_colab_link": true
    }
  },
  "nbformat": 4,
  "nbformat_minor": 5
}